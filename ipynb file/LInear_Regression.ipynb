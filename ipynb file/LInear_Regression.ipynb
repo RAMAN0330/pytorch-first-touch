{
  "nbformat": 4,
  "nbformat_minor": 0,
  "metadata": {
    "colab": {
      "provenance": [],
      "gpuType": "T4"
    },
    "kernelspec": {
      "name": "python3",
      "display_name": "Python 3"
    },
    "language_info": {
      "name": "python"
    },
    "accelerator": "GPU"
  },
  "cells": [
    {
      "cell_type": "code",
      "execution_count": null,
      "metadata": {
        "id": "nf-PnZTZ0MUJ",
        "colab": {
          "base_uri": "https://localhost:8080/"
        },
        "outputId": "704a41ee-5d4a-4bca-a1f8-9e290f1d4ffc"
      },
      "outputs": [
        {
          "output_type": "stream",
          "name": "stdout",
          "text": [
            "Requirement already satisfied: torch in /usr/local/lib/python3.10/dist-packages (2.3.1+cu121)\n",
            "Requirement already satisfied: filelock in /usr/local/lib/python3.10/dist-packages (from torch) (3.15.4)\n",
            "Requirement already satisfied: typing-extensions>=4.8.0 in /usr/local/lib/python3.10/dist-packages (from torch) (4.12.2)\n",
            "Requirement already satisfied: sympy in /usr/local/lib/python3.10/dist-packages (from torch) (1.13.1)\n",
            "Requirement already satisfied: networkx in /usr/local/lib/python3.10/dist-packages (from torch) (3.3)\n",
            "Requirement already satisfied: jinja2 in /usr/local/lib/python3.10/dist-packages (from torch) (3.1.4)\n",
            "Requirement already satisfied: fsspec in /usr/local/lib/python3.10/dist-packages (from torch) (2024.6.1)\n",
            "Collecting nvidia-cuda-nvrtc-cu12==12.1.105 (from torch)\n",
            "  Using cached nvidia_cuda_nvrtc_cu12-12.1.105-py3-none-manylinux1_x86_64.whl.metadata (1.5 kB)\n",
            "Collecting nvidia-cuda-runtime-cu12==12.1.105 (from torch)\n",
            "  Using cached nvidia_cuda_runtime_cu12-12.1.105-py3-none-manylinux1_x86_64.whl.metadata (1.5 kB)\n",
            "Collecting nvidia-cuda-cupti-cu12==12.1.105 (from torch)\n",
            "  Using cached nvidia_cuda_cupti_cu12-12.1.105-py3-none-manylinux1_x86_64.whl.metadata (1.6 kB)\n",
            "Collecting nvidia-cudnn-cu12==8.9.2.26 (from torch)\n",
            "  Using cached nvidia_cudnn_cu12-8.9.2.26-py3-none-manylinux1_x86_64.whl.metadata (1.6 kB)\n",
            "Collecting nvidia-cublas-cu12==12.1.3.1 (from torch)\n",
            "  Using cached nvidia_cublas_cu12-12.1.3.1-py3-none-manylinux1_x86_64.whl.metadata (1.5 kB)\n",
            "Collecting nvidia-cufft-cu12==11.0.2.54 (from torch)\n",
            "  Using cached nvidia_cufft_cu12-11.0.2.54-py3-none-manylinux1_x86_64.whl.metadata (1.5 kB)\n",
            "Collecting nvidia-curand-cu12==10.3.2.106 (from torch)\n",
            "  Using cached nvidia_curand_cu12-10.3.2.106-py3-none-manylinux1_x86_64.whl.metadata (1.5 kB)\n",
            "Collecting nvidia-cusolver-cu12==11.4.5.107 (from torch)\n",
            "  Using cached nvidia_cusolver_cu12-11.4.5.107-py3-none-manylinux1_x86_64.whl.metadata (1.6 kB)\n",
            "Collecting nvidia-cusparse-cu12==12.1.0.106 (from torch)\n",
            "  Using cached nvidia_cusparse_cu12-12.1.0.106-py3-none-manylinux1_x86_64.whl.metadata (1.6 kB)\n",
            "Collecting nvidia-nccl-cu12==2.20.5 (from torch)\n",
            "  Using cached nvidia_nccl_cu12-2.20.5-py3-none-manylinux2014_x86_64.whl.metadata (1.8 kB)\n",
            "Collecting nvidia-nvtx-cu12==12.1.105 (from torch)\n",
            "  Using cached nvidia_nvtx_cu12-12.1.105-py3-none-manylinux1_x86_64.whl.metadata (1.7 kB)\n",
            "Requirement already satisfied: triton==2.3.1 in /usr/local/lib/python3.10/dist-packages (from torch) (2.3.1)\n",
            "Collecting nvidia-nvjitlink-cu12 (from nvidia-cusolver-cu12==11.4.5.107->torch)\n",
            "  Using cached nvidia_nvjitlink_cu12-12.6.20-py3-none-manylinux2014_x86_64.whl.metadata (1.5 kB)\n",
            "Requirement already satisfied: MarkupSafe>=2.0 in /usr/local/lib/python3.10/dist-packages (from jinja2->torch) (2.1.5)\n",
            "Requirement already satisfied: mpmath<1.4,>=1.1.0 in /usr/local/lib/python3.10/dist-packages (from sympy->torch) (1.3.0)\n",
            "Using cached nvidia_cublas_cu12-12.1.3.1-py3-none-manylinux1_x86_64.whl (410.6 MB)\n",
            "Using cached nvidia_cuda_cupti_cu12-12.1.105-py3-none-manylinux1_x86_64.whl (14.1 MB)\n",
            "Using cached nvidia_cuda_nvrtc_cu12-12.1.105-py3-none-manylinux1_x86_64.whl (23.7 MB)\n",
            "Using cached nvidia_cuda_runtime_cu12-12.1.105-py3-none-manylinux1_x86_64.whl (823 kB)\n",
            "Using cached nvidia_cudnn_cu12-8.9.2.26-py3-none-manylinux1_x86_64.whl (731.7 MB)\n",
            "Using cached nvidia_cufft_cu12-11.0.2.54-py3-none-manylinux1_x86_64.whl (121.6 MB)\n",
            "Using cached nvidia_curand_cu12-10.3.2.106-py3-none-manylinux1_x86_64.whl (56.5 MB)\n",
            "Using cached nvidia_cusolver_cu12-11.4.5.107-py3-none-manylinux1_x86_64.whl (124.2 MB)\n",
            "Using cached nvidia_cusparse_cu12-12.1.0.106-py3-none-manylinux1_x86_64.whl (196.0 MB)\n",
            "Using cached nvidia_nccl_cu12-2.20.5-py3-none-manylinux2014_x86_64.whl (176.2 MB)\n",
            "Using cached nvidia_nvtx_cu12-12.1.105-py3-none-manylinux1_x86_64.whl (99 kB)\n",
            "Using cached nvidia_nvjitlink_cu12-12.6.20-py3-none-manylinux2014_x86_64.whl (19.7 MB)\n",
            "Installing collected packages: nvidia-nvtx-cu12, nvidia-nvjitlink-cu12, nvidia-nccl-cu12, nvidia-curand-cu12, nvidia-cufft-cu12, nvidia-cuda-runtime-cu12, nvidia-cuda-nvrtc-cu12, nvidia-cuda-cupti-cu12, nvidia-cublas-cu12, nvidia-cusparse-cu12, nvidia-cudnn-cu12, nvidia-cusolver-cu12\n",
            "Successfully installed nvidia-cublas-cu12-12.1.3.1 nvidia-cuda-cupti-cu12-12.1.105 nvidia-cuda-nvrtc-cu12-12.1.105 nvidia-cuda-runtime-cu12-12.1.105 nvidia-cudnn-cu12-8.9.2.26 nvidia-cufft-cu12-11.0.2.54 nvidia-curand-cu12-10.3.2.106 nvidia-cusolver-cu12-11.4.5.107 nvidia-cusparse-cu12-12.1.0.106 nvidia-nccl-cu12-2.20.5 nvidia-nvjitlink-cu12-12.6.20 nvidia-nvtx-cu12-12.1.105\n"
          ]
        }
      ],
      "source": [
        "!pip install torch"
      ]
    },
    {
      "cell_type": "code",
      "source": [
        "import torch\n",
        "import numpy as np\n",
        "import torch.nn as nn\n",
        "from torch.nn import functional as F"
      ],
      "metadata": {
        "id": "I8UcRqvX-F_H"
      },
      "execution_count": 1,
      "outputs": []
    },
    {
      "cell_type": "code",
      "source": [
        "def model(x):\n",
        "  return x @ weights.t() + bias  ## @ for matrix multiplication"
      ],
      "metadata": {
        "id": "gs_4qe2cAVlP"
      },
      "execution_count": 2,
      "outputs": []
    },
    {
      "cell_type": "code",
      "source": [
        "def loss(y_hat,y):\n",
        "  diff = y_hat - y\n",
        "  return torch.sum(diff * diff) / diff.numel()"
      ],
      "metadata": {
        "id": "xpcU6-M4CAzu"
      },
      "execution_count": 3,
      "outputs": []
    },
    {
      "cell_type": "code",
      "source": [
        "factors = torch.tensor([[73,67,43],\n",
        "                         [91,88,64],\n",
        "                         [87,134,58],\n",
        "                         [102,43,37],\n",
        "                         [69,96,70]],dtype=torch.float32)\n",
        "\n",
        "fruits_traget = torch.tensor([[56,70],\n",
        "                       [81,101],\n",
        "                       [119,133],\n",
        "                       [22,37],\n",
        "                       [103,119]],dtype=torch.float32)"
      ],
      "metadata": {
        "id": "YvMb3iKs-PL1"
      },
      "execution_count": 4,
      "outputs": []
    },
    {
      "cell_type": "code",
      "source": [
        "weights = torch.randn(2,3,requires_grad=True)\n",
        "bias = torch.randn(2,requires_grad=True)\n",
        "y_hat = model(factors)  ## y_hat is the prediction\n",
        "loss1 = loss(y_hat,fruits_traget) # loss is calculated\n",
        "print(loss1)"
      ],
      "metadata": {
        "colab": {
          "base_uri": "https://localhost:8080/"
        },
        "id": "AMfZtvpZ_DIL",
        "outputId": "d70c79ab-15d9-4d8d-9e94-aee14366f84e"
      },
      "execution_count": 5,
      "outputs": [
        {
          "output_type": "stream",
          "name": "stdout",
          "text": [
            "tensor(38897.3203, grad_fn=<DivBackward0>)\n"
          ]
        }
      ]
    },
    {
      "cell_type": "code",
      "source": [
        "learning_rate = 0.0001\n",
        "loss1.backward()\n",
        "with torch.no_grad():\n",
        "  weights -= weights.grad * learning_rate\n",
        "  bias -= bias.grad * learning_rate\n",
        "  weights.grad.zero_()\n",
        "  bias.grad.zero_()"
      ],
      "metadata": {
        "id": "8RD19ZnSCH1z"
      },
      "execution_count": 6,
      "outputs": []
    },
    {
      "cell_type": "code",
      "source": [
        "weights"
      ],
      "metadata": {
        "colab": {
          "base_uri": "https://localhost:8080/"
        },
        "id": "kapoPB5ODhkI",
        "outputId": "5ca480cd-87b1-4f66-ece9-e89a19321158"
      },
      "execution_count": 7,
      "outputs": [
        {
          "output_type": "execute_result",
          "data": {
            "text/plain": [
              "tensor([[ 0.0040,  0.8938, -0.9331],\n",
              "        [ 0.8325,  2.1783,  0.8494]], requires_grad=True)"
            ]
          },
          "metadata": {},
          "execution_count": 7
        }
      ]
    },
    {
      "cell_type": "code",
      "source": [
        "y_hat1 = model(factors)  ## y_hat is the prediction\n",
        "loss2 = loss(y_hat1,fruits_traget) # loss is calculated\n",
        "print(loss2)"
      ],
      "metadata": {
        "colab": {
          "base_uri": "https://localhost:8080/"
        },
        "id": "47bgeGhZDjzP",
        "outputId": "3058dbb6-c5d8-4028-c8bb-603ac0e3957a"
      },
      "execution_count": 8,
      "outputs": [
        {
          "output_type": "stream",
          "name": "stdout",
          "text": [
            "tensor(24402.0059, grad_fn=<DivBackward0>)\n"
          ]
        }
      ]
    },
    {
      "cell_type": "markdown",
      "source": [
        "### For dealing with large  dataset were batches are required"
      ],
      "metadata": {
        "id": "qS1EjVEDG3aB"
      }
    },
    {
      "cell_type": "code",
      "source": [
        "input = factors.repeat(3,1)\n",
        "target = fruits_traget.repeat(3,1)"
      ],
      "metadata": {
        "id": "q-f2M3DGEfO_"
      },
      "execution_count": 48,
      "outputs": []
    },
    {
      "cell_type": "code",
      "source": [
        "input"
      ],
      "metadata": {
        "colab": {
          "base_uri": "https://localhost:8080/"
        },
        "id": "7vb47n0zCszQ",
        "outputId": "2d5e4d08-7622-4c64-a55f-96de69e3659b"
      },
      "execution_count": 49,
      "outputs": [
        {
          "output_type": "execute_result",
          "data": {
            "text/plain": [
              "tensor([[ 73.,  67.,  43.],\n",
              "        [ 91.,  88.,  64.],\n",
              "        [ 87., 134.,  58.],\n",
              "        [102.,  43.,  37.],\n",
              "        [ 69.,  96.,  70.],\n",
              "        [ 73.,  67.,  43.],\n",
              "        [ 91.,  88.,  64.],\n",
              "        [ 87., 134.,  58.],\n",
              "        [102.,  43.,  37.],\n",
              "        [ 69.,  96.,  70.],\n",
              "        [ 73.,  67.,  43.],\n",
              "        [ 91.,  88.,  64.],\n",
              "        [ 87., 134.,  58.],\n",
              "        [102.,  43.,  37.],\n",
              "        [ 69.,  96.,  70.]])"
            ]
          },
          "metadata": {},
          "execution_count": 49
        }
      ]
    },
    {
      "cell_type": "code",
      "source": [
        "from torch.utils.data import TensorDataset\n",
        "from torch.utils.data import DataLoader"
      ],
      "metadata": {
        "id": "F-5Pi_nDIFUj"
      },
      "execution_count": 22,
      "outputs": []
    },
    {
      "cell_type": "code",
      "source": [
        "train_ds = TensorDataset(input, target)\n",
        "print(train_ds[0:3])"
      ],
      "metadata": {
        "colab": {
          "base_uri": "https://localhost:8080/"
        },
        "id": "hg2omk2t-bcG",
        "outputId": "ccc310e1-2a96-4785-86d0-4cfd659ee0ba"
      },
      "execution_count": 24,
      "outputs": [
        {
          "output_type": "stream",
          "name": "stdout",
          "text": [
            "(tensor([[ 73.,  67.,  43.],\n",
            "        [ 91.,  88.,  64.],\n",
            "        [ 87., 134.,  58.]]), tensor([[ 56.,  70.],\n",
            "        [ 81., 101.],\n",
            "        [119., 133.]]))\n"
          ]
        }
      ]
    },
    {
      "cell_type": "code",
      "source": [
        "train_dataloder = DataLoader(train_ds , batch_size = 5, shuffle = True)"
      ],
      "metadata": {
        "id": "Rl8IPGeK-pc8"
      },
      "execution_count": 26,
      "outputs": []
    },
    {
      "cell_type": "code",
      "source": [
        "print(train_dataloder)  # Stores an object at given address"
      ],
      "metadata": {
        "colab": {
          "base_uri": "https://localhost:8080/"
        },
        "id": "-A7aaEZu-_u2",
        "outputId": "97a4573b-091e-413d-9d5d-1be8a6b0380b"
      },
      "execution_count": 29,
      "outputs": [
        {
          "output_type": "stream",
          "name": "stdout",
          "text": [
            "<torch.utils.data.dataloader.DataLoader object at 0x78589a393a60>\n"
          ]
        }
      ]
    },
    {
      "cell_type": "code",
      "source": [
        "for x, y in train_dataloder:\n",
        "  print(f\"input is : {x} and target is : {y}\")"
      ],
      "metadata": {
        "colab": {
          "base_uri": "https://localhost:8080/"
        },
        "id": "aUlq7qYC_IzT",
        "outputId": "79dd419d-824d-4e6a-b373-4b10d90b964d"
      },
      "execution_count": 31,
      "outputs": [
        {
          "output_type": "stream",
          "name": "stdout",
          "text": [
            "input is : tensor([[ 91.,  88.,  64.],\n",
            "        [ 69.,  96.,  70.],\n",
            "        [ 87., 134.,  58.],\n",
            "        [ 73.,  67.,  43.],\n",
            "        [102.,  43.,  37.]]) and target is : tensor([[ 81., 101.],\n",
            "        [103., 119.],\n",
            "        [119., 133.],\n",
            "        [ 56.,  70.],\n",
            "        [ 22.,  37.]])\n",
            "input is : tensor([[102.,  43.,  37.],\n",
            "        [ 87., 134.,  58.],\n",
            "        [ 91.,  88.,  64.],\n",
            "        [ 87., 134.,  58.],\n",
            "        [ 73.,  67.,  43.]]) and target is : tensor([[ 22.,  37.],\n",
            "        [119., 133.],\n",
            "        [ 81., 101.],\n",
            "        [119., 133.],\n",
            "        [ 56.,  70.]])\n",
            "input is : tensor([[ 69.,  96.,  70.],\n",
            "        [ 69.,  96.,  70.],\n",
            "        [ 91.,  88.,  64.],\n",
            "        [ 73.,  67.,  43.],\n",
            "        [102.,  43.,  37.]]) and target is : tensor([[103., 119.],\n",
            "        [103., 119.],\n",
            "        [ 81., 101.],\n",
            "        [ 56.,  70.],\n",
            "        [ 22.,  37.]])\n"
          ]
        }
      ]
    },
    {
      "cell_type": "code",
      "source": [
        "model = nn.Linear(3,2)\n",
        "print(f\"weights of model are {model.weight}\")\n",
        "print(f\"Bias of model are {model.bias}\")"
      ],
      "metadata": {
        "colab": {
          "base_uri": "https://localhost:8080/"
        },
        "id": "J7quvxRQ_R0n",
        "outputId": "dac80211-2632-4d31-dec1-b881a90b2ea3"
      },
      "execution_count": 51,
      "outputs": [
        {
          "output_type": "stream",
          "name": "stdout",
          "text": [
            "weights of model are Parameter containing:\n",
            "tensor([[-0.3746, -0.2403,  0.0667],\n",
            "        [-0.1765,  0.3959, -0.2049]], requires_grad=True)\n",
            "Bias of model are Parameter containing:\n",
            "tensor([0.2396, 0.5108], requires_grad=True)\n"
          ]
        }
      ]
    },
    {
      "cell_type": "markdown",
      "source": [
        "another way of checking weights and bias"
      ],
      "metadata": {
        "id": "aUoqs8-4AhrK"
      }
    },
    {
      "cell_type": "code",
      "source": [
        "list(model.parameters())"
      ],
      "metadata": {
        "colab": {
          "base_uri": "https://localhost:8080/"
        },
        "id": "WNTksSSJAOQJ",
        "outputId": "89050420-cbfa-41c8-ba3e-9be04b15fdfe"
      },
      "execution_count": 52,
      "outputs": [
        {
          "output_type": "execute_result",
          "data": {
            "text/plain": [
              "[Parameter containing:\n",
              " tensor([[-0.3746, -0.2403,  0.0667],\n",
              "         [-0.1765,  0.3959, -0.2049]], requires_grad=True),\n",
              " Parameter containing:\n",
              " tensor([0.2396, 0.5108], requires_grad=True)]"
            ]
          },
          "metadata": {},
          "execution_count": 52
        }
      ]
    },
    {
      "cell_type": "code",
      "source": [
        "# Genearate predictions\n",
        "preds = model(input)\n",
        "preds(preds)"
      ],
      "metadata": {
        "colab": {
          "base_uri": "https://localhost:8080/"
        },
        "id": "89ICvyS9AfYL",
        "outputId": "add19d49-4eea-4650-cdfe-e898c8c19bab"
      },
      "execution_count": 53,
      "outputs": [
        {
          "output_type": "execute_result",
          "data": {
            "text/plain": [
              "tensor([[-40.3434,   5.3389],\n",
              "        [-50.7333,   6.1725],\n",
              "        [-60.6910,  26.3204],\n",
              "        [-45.8395,  -8.0535],\n",
              "        [-44.0140,  11.9944],\n",
              "        [-40.3434,   5.3389],\n",
              "        [-50.7333,   6.1725],\n",
              "        [-60.6910,  26.3204],\n",
              "        [-45.8395,  -8.0535],\n",
              "        [-44.0140,  11.9944],\n",
              "        [-40.3434,   5.3389],\n",
              "        [-50.7333,   6.1725],\n",
              "        [-60.6910,  26.3204],\n",
              "        [-45.8395,  -8.0535],\n",
              "        [-44.0140,  11.9944]], grad_fn=<AddmmBackward0>)"
            ]
          },
          "metadata": {},
          "execution_count": 53
        }
      ]
    },
    {
      "cell_type": "code",
      "source": [
        "loss = F.mse_loss(model(input), target)\n",
        "print(loss)"
      ],
      "metadata": {
        "colab": {
          "base_uri": "https://localhost:8080/"
        },
        "id": "UlkUuap8ArPx",
        "outputId": "aaa252a0-354f-4049-cfdc-f5aa823bd537"
      },
      "execution_count": 56,
      "outputs": [
        {
          "output_type": "stream",
          "name": "stdout",
          "text": [
            "tensor(12317.3740, grad_fn=<MseLossBackward0>)\n"
          ]
        }
      ]
    },
    {
      "cell_type": "code",
      "source": [
        "# Defining optimizer\n",
        "opt = torch.optim.SGD(model.parameters(), lr = 0.00001)"
      ],
      "metadata": {
        "id": "EzHjjqYxDBPL"
      },
      "execution_count": 58,
      "outputs": []
    },
    {
      "cell_type": "code",
      "source": [
        "# Defining Function for fit the data and updating weights\n",
        "def fit(epoch, model, loss_fn, opt, train_dl):\n",
        "  for epoch in range(epoch):\n",
        "    for x, y in train_dl:\n",
        "      loss = loss_fn(model(x), y)\n",
        "      opt.zero_grad()\n",
        "      loss.backward()\n",
        "      opt.step()\n",
        "\n",
        "    if (epoch+1) % 10 == 0:\n",
        "      print(f\"Epoch [{epoch+1}/{epoch}], Loss: {loss.item():.4f}\")"
      ],
      "metadata": {
        "id": "IVZJS-TkDdYC"
      },
      "execution_count": 62,
      "outputs": []
    },
    {
      "cell_type": "code",
      "source": [
        "fit(100, model, F.mse_loss, opt, train_dataloder)"
      ],
      "metadata": {
        "colab": {
          "base_uri": "https://localhost:8080/"
        },
        "id": "SLKskd1NErzP",
        "outputId": "27637c2d-ee14-44f7-a158-9ff08578cda4"
      },
      "execution_count": 64,
      "outputs": [
        {
          "output_type": "stream",
          "name": "stdout",
          "text": [
            "Epoch [10/9], Loss: 237.3162\n",
            "Epoch [20/19], Loss: 213.0553\n",
            "Epoch [30/29], Loss: 114.6593\n",
            "Epoch [40/39], Loss: 111.3890\n",
            "Epoch [50/49], Loss: 93.7857\n",
            "Epoch [60/59], Loss: 55.0885\n",
            "Epoch [70/69], Loss: 36.9602\n",
            "Epoch [80/79], Loss: 42.7515\n",
            "Epoch [90/89], Loss: 32.4340\n",
            "Epoch [100/99], Loss: 39.9923\n"
          ]
        }
      ]
    },
    {
      "cell_type": "code",
      "source": [
        "preds = model(input)\n",
        "print(preds , target)"
      ],
      "metadata": {
        "colab": {
          "base_uri": "https://localhost:8080/"
        },
        "id": "sAcWlKwzE4r2",
        "outputId": "d9ac604b-8ade-4a88-a2fc-f1b9d15438c2"
      },
      "execution_count": 71,
      "outputs": [
        {
          "output_type": "stream",
          "name": "stdout",
          "text": [
            "tensor([[ 58.2220,  71.3395],\n",
            "        [ 81.9734,  96.2669],\n",
            "        [117.6481, 140.6428],\n",
            "        [ 26.7957,  42.5269],\n",
            "        [ 98.2186, 108.4114],\n",
            "        [ 58.2220,  71.3395],\n",
            "        [ 81.9734,  96.2669],\n",
            "        [117.6481, 140.6428],\n",
            "        [ 26.7957,  42.5269],\n",
            "        [ 98.2186, 108.4114],\n",
            "        [ 58.2220,  71.3395],\n",
            "        [ 81.9734,  96.2669],\n",
            "        [117.6481, 140.6428],\n",
            "        [ 26.7957,  42.5269],\n",
            "        [ 98.2186, 108.4114]], grad_fn=<AddmmBackward0>) tensor([[ 56.,  70.],\n",
            "        [ 81., 101.],\n",
            "        [119., 133.],\n",
            "        [ 22.,  37.],\n",
            "        [103., 119.],\n",
            "        [ 56.,  70.],\n",
            "        [ 81., 101.],\n",
            "        [119., 133.],\n",
            "        [ 22.,  37.],\n",
            "        [103., 119.],\n",
            "        [ 56.,  70.],\n",
            "        [ 81., 101.],\n",
            "        [119., 133.],\n",
            "        [ 22.,  37.],\n",
            "        [103., 119.]])\n"
          ]
        }
      ]
    },
    {
      "cell_type": "code",
      "source": [],
      "metadata": {
        "colab": {
          "base_uri": "https://localhost:8080/"
        },
        "id": "3tks8_y0FE6k",
        "outputId": "7bbcec2e-d44b-474e-8ed2-cf77d39a0c9e"
      },
      "execution_count": 70,
      "outputs": [
        {
          "output_type": "stream",
          "name": "stdout",
          "text": [
            "tensor([[ 58.2220,  71.3395],\n",
            "        [ 81.9734,  96.2669],\n",
            "        [117.6481, 140.6428],\n",
            "        [ 26.7957,  42.5269],\n",
            "        [ 98.2186, 108.4114],\n",
            "        [ 58.2220,  71.3395],\n",
            "        [ 81.9734,  96.2669],\n",
            "        [117.6481, 140.6428],\n",
            "        [ 26.7957,  42.5269],\n",
            "        [ 98.2186, 108.4114],\n",
            "        [ 58.2220,  71.3395],\n",
            "        [ 81.9734,  96.2669],\n",
            "        [117.6481, 140.6428],\n",
            "        [ 26.7957,  42.5269],\n",
            "        [ 98.2186, 108.4114]], grad_fn=<AddmmBackward0>) tensor([[ 56.,  70.],\n",
            "        [ 81., 101.],\n",
            "        [119., 133.],\n",
            "        [ 22.,  37.],\n",
            "        [103., 119.],\n",
            "        [ 56.,  70.],\n",
            "        [ 81., 101.],\n",
            "        [119., 133.],\n",
            "        [ 22.,  37.],\n",
            "        [103., 119.],\n",
            "        [ 56.,  70.],\n",
            "        [ 81., 101.],\n",
            "        [119., 133.],\n",
            "        [ 22.,  37.],\n",
            "        [103., 119.]])\n"
          ]
        }
      ]
    },
    {
      "cell_type": "code",
      "source": [],
      "metadata": {
        "id": "JJopVV1gFLN1"
      },
      "execution_count": null,
      "outputs": []
    }
  ]
}