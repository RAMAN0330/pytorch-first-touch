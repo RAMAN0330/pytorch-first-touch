{
  "cells": [
    {
      "cell_type": "markdown",
      "source": [
        "## Logistic Regression with PyTorch: Because Nothing Says Simple Like an Exponential Curve"
      ],
      "metadata": {
        "id": "vELisL3MxhMP"
      }
    },
    {
      "cell_type": "markdown",
      "source": [
        "##### So, here we are, tackling the age-old problem of classifying data points into two distinct classes. Clearly, a straight line wasn't dramatic enough,so we opted for logistic regression—a method that bends and twists to fit our needs. And who better to handle this than PyTorch, our favorite deep learning library? Let's walk through this ordeal with as much enthusiasm as one can muster. 🎉"
      ],
      "metadata": {
        "id": "kykgV3nExwIe"
      }
    },
    {
      "cell_type": "code",
      "execution_count": 136,
      "metadata": {
        "id": "mrZaApX7IwoK"
      },
      "outputs": [],
      "source": [
        "import torch\n",
        "import torch.nn as nn\n",
        "from torch.nn import functional as F\n",
        "import torch.optim as optim\n",
        "from torchvision.datasets import MNIST\n",
        "from torchvision import transforms\n",
        "from torch.utils.data import DataLoader, random_split\n",
        "import matplotlib.pyplot as plt\n",
        "import numpy as np"
      ]
    },
    {
      "cell_type": "code",
      "execution_count": 137,
      "metadata": {
        "id": "K1FPKQXDJFLQ"
      },
      "outputs": [],
      "source": [
        "train_ds = MNIST(root = \"data/\", download = True, transform = transforms.ToTensor(), train = True)\n",
        "test_ds = MNIST(root = \"data/\", download = True, transform = transforms.ToTensor(), train = False)"
      ]
    },
    {
      "cell_type": "code",
      "execution_count": 138,
      "metadata": {
        "colab": {
          "base_uri": "https://localhost:8080/",
          "height": 423
        },
        "id": "ugTCnWINJ6dd",
        "outputId": "37bd7da8-2943-45ae-9de3-d6098f04c8c6"
      },
      "outputs": [
        {
          "output_type": "execute_result",
          "data": {
            "text/plain": [
              "(-0.5, 27.5, 27.5, -0.5)"
            ]
          },
          "metadata": {},
          "execution_count": 138
        },
        {
          "output_type": "display_data",
          "data": {
            "text/plain": [
              "<Figure size 640x480 with 1 Axes>"
            ],
            "image/png": "[encoded data removed]"
          },
          "metadata": {}
        }
      ],
      "source": [
        "plt.imshow(train_ds[0][0][0], cmap = \"gray\")\n",
        "plt.axis(\"off\")"
      ]
    },
    {
      "cell_type": "code",
      "execution_count": 139,
      "metadata": {
        "colab": {
          "base_uri": "https://localhost:8080/"
        },
        "id": "10a7CrtmTBGA",
        "outputId": "9d84bc56-92ee-477b-bb77-84baeb67ea90"
      },
      "outputs": [
        {
          "output_type": "execute_result",
          "data": {
            "text/plain": [
              "(50000, 10000)"
            ]
          },
          "metadata": {},
          "execution_count": 139
        }
      ],
      "source": [
        "train_ds, val_ds = random_split(train_ds, [50000, 10000])\n",
        "len(train_ds), len(val_ds)"
      ]
    },
    {
      "cell_type": "code",
      "execution_count": 140,
      "metadata": {
        "id": "tY-TcpHBTTgp"
      },
      "outputs": [],
      "source": [
        "# Making batches\n",
        "train_loader = DataLoader(train_ds, batch_size = 128, shuffle = True)\n",
        "val_loader = DataLoader(val_ds, batch_size = 128, shuffle = True)\n",
        "test_loader = DataLoader(test_ds, batch_size = 128, shuffle = True)"
      ]
    },
    {
      "cell_type": "code",
      "execution_count": 141,
      "metadata": {
        "colab": {
          "base_uri": "https://localhost:8080/"
        },
        "id": "JvRbvfSZT38O",
        "outputId": "58361d4c-9179-4a99-bfa4-83b4c2e23b4d"
      },
      "outputs": [
        {
          "output_type": "execute_result",
          "data": {
            "text/plain": [
              "[Parameter containing:\n",
              " tensor([[ 1.8608e-02,  6.1640e-05, -1.1919e-03,  ...,  2.5430e-02,\n",
              "          -8.6413e-03,  2.3195e-02],\n",
              "         [-2.9934e-02, -2.4510e-02,  2.9772e-02,  ...,  2.4595e-02,\n",
              "           2.6349e-02,  1.0856e-02],\n",
              "         [ 3.5196e-02, -1.9763e-02,  1.1311e-02,  ..., -2.7567e-02,\n",
              "           2.1112e-02,  1.0405e-02],\n",
              "         ...,\n",
              "         [-1.3567e-02, -1.9061e-02, -2.5994e-02,  ...,  9.3873e-03,\n",
              "           1.4642e-02,  1.9471e-02],\n",
              "         [ 6.2262e-03,  1.4067e-02,  9.1545e-03,  ...,  3.1663e-02,\n",
              "          -1.4710e-02, -3.6055e-03],\n",
              "         [ 1.8174e-02,  2.9172e-04, -2.4163e-02,  ...,  1.6459e-02,\n",
              "          -1.3742e-02,  1.4861e-02]], requires_grad=True),\n",
              " Parameter containing:\n",
              " tensor([-0.0312,  0.0253,  0.0169, -0.0213, -0.0108,  0.0276,  0.0213,  0.0030,\n",
              "          0.0027,  0.0285], requires_grad=True)]"
            ]
          },
          "metadata": {},
          "execution_count": 141
        }
      ],
      "source": [
        "# Model\n",
        "input_size = 28*28\n",
        "num_classes = 10\n",
        "model = nn.Linear(input_size, num_classes)\n",
        "list(model.parameters())"
      ]
    },
    {
      "cell_type": "code",
      "execution_count": 142,
      "metadata": {
        "id": "Z0OevzcgUyCE"
      },
      "outputs": [],
      "source": [
        "for images, labels in train_loader:\n",
        "  images = images.reshape(-1,28*28)\n",
        "  outputs = model(images)\n",
        "  break"
      ]
    },
    {
      "cell_type": "markdown",
      "source": [
        "#### Model Definition with nn.Linear 💻:\n",
        "The cornerstone of our logistic regression model is a linear layer. Think of nn.Linear as the intellectual equivalent of drawing a straight line, but with all the flair of matrix multiplication. In other words, it takes the input, applies a linear transformation, and spits out an output. It's the brain of our operation 🧠, but let's not pretend it's doing anything more than adding up weighted inputs and a bias term."
      ],
      "metadata": {
        "id": "3pd88XNEx62o"
      }
    },
    {
      "cell_type": "code",
      "execution_count": 143,
      "metadata": {
        "id": "IY9ZPJUBV22S"
      },
      "outputs": [],
      "source": [
        "class Logistic_regression_MNIST(nn.Module):\n",
        "  def __init__(self):\n",
        "    super().__init__()\n",
        "    self.linear = nn.Linear(input_size, num_classes)\n",
        "  def forward(self, x):\n",
        "    x = x.reshape(-1, 28*28)\n",
        "    outputs = self.linear(x)\n",
        "    return outputs"
      ]
    },
    {
      "cell_type": "code",
      "execution_count": 144,
      "metadata": {
        "colab": {
          "base_uri": "https://localhost:8080/"
        },
        "id": "gvg4z75EXs26",
        "outputId": "12ae2dff-6158-4de6-93c9-6ea6c8f648f7"
      },
      "outputs": [
        {
          "output_type": "stream",
          "name": "stdout",
          "text": [
            "torch.Size([10, 784]) torch.Size([10])\n"
          ]
        }
      ],
      "source": [
        "model = Logistic_regression_MNIST()\n",
        "print(model.linear.weight.shape , model.linear.bias.shape)"
      ]
    },
    {
      "cell_type": "code",
      "execution_count": 145,
      "metadata": {
        "id": "FTlx1p86ZJqO"
      },
      "outputs": [],
      "source": [
        "for images , labels in train_loader:\n",
        "  outputs = model(images)\n",
        "  break"
      ]
    },
    {
      "cell_type": "code",
      "execution_count": 146,
      "metadata": {
        "colab": {
          "base_uri": "https://localhost:8080/"
        },
        "id": "EhuEY74qZkyh",
        "outputId": "ef02d9a3-019a-4016-81d5-48e7ca5536ff"
      },
      "outputs": [
        {
          "output_type": "stream",
          "name": "stdout",
          "text": [
            "Output Shape : torch.Size([128, 10])\n",
            "Sample Output : tensor([[ 0.2949,  0.2205,  0.0772,  0.0198,  0.0898,  0.2124,  0.2155, -0.0224,\n",
            "         -0.0656, -0.1342],\n",
            "        [ 0.0919,  0.3214, -0.0790,  0.0957,  0.2672, -0.1629, -0.0077,  0.0248,\n",
            "         -0.0028,  0.0604]])\n"
          ]
        }
      ],
      "source": [
        "print(f\"Output Shape : {outputs.shape}\")\n",
        "print(f\"Sample Output : {outputs[:2].data}\")"
      ]
    },
    {
      "cell_type": "markdown",
      "source": [
        "#### Softmax Function: Making Sure Everything Sums to One 🧮:\n",
        "Next, we introduce F.softmax into the mix. Why, you ask? Because after all the complex calculations, we need to normalize our results. We want our outputs to look like probabilities, summing to one, rather than some arbitrary numbers. Softmax takes our linear output and graciously transforms it into something that resembles a probability distribution. It's like magic 🎩✨, but with more exponentials and less sleight of hand."
      ],
      "metadata": {
        "id": "d0wX6JcwyABC"
      }
    },
    {
      "cell_type": "code",
      "execution_count": 147,
      "metadata": {
        "id": "OH5EyOTgptXr",
        "colab": {
          "base_uri": "https://localhost:8080/"
        },
        "outputId": "d84cd84c-3a73-4352-a4ea-d8ac6bd779b4"
      },
      "outputs": [
        {
          "output_type": "stream",
          "name": "stdout",
          "text": [
            "Sample Probabilities : tensor([[0.1215, 0.1128, 0.0978, 0.0923, 0.0990, 0.1119, 0.1123, 0.0885, 0.0848,\n",
            "         0.0791],\n",
            "        [0.1021, 0.1285, 0.0861, 0.1025, 0.1217, 0.0792, 0.0925, 0.0955, 0.0929,\n",
            "         0.0990]])\n",
            "Sum of Probabilities : 0.9999999403953552\n"
          ]
        }
      ],
      "source": [
        "# Applysoftmaxfor each output row\n",
        "probs = F.softmax(outputs, dim =1 )\n",
        "print(f\"Sample Probabilities : {probs[:2].data}\")\n",
        "print(f\"Sum of Probabilities : {probs[0].sum()}\")"
      ]
    },
    {
      "cell_type": "code",
      "source": [
        "max_probs, preds = torch.max(probs, dim = 1)\n",
        "print(f\"Predictions : {preds}\")\n",
        "print(f\"Max Probabilities : {max_probs}\")"
      ],
      "metadata": {
        "colab": {
          "base_uri": "https://localhost:8080/"
        },
        "id": "eZFLXiRy3lb9",
        "outputId": "4b6ebe36-1606-4ca5-b46d-e9ebb181ea6b"
      },
      "execution_count": 148,
      "outputs": [
        {
          "output_type": "stream",
          "name": "stdout",
          "text": [
            "Predictions : tensor([0, 1, 0, 1, 6, 0, 1, 0, 6, 6, 0, 7, 0, 6, 0, 0, 1, 0, 1, 0, 6, 3, 6, 1,\n",
            "        0, 1, 0, 1, 3, 0, 6, 1, 4, 5, 0, 0, 1, 0, 6, 3, 1, 9, 6, 1, 0, 1, 0, 0,\n",
            "        6, 0, 6, 4, 1, 0, 0, 0, 3, 7, 1, 0, 0, 6, 6, 0, 0, 0, 0, 0, 6, 0, 0, 4,\n",
            "        3, 0, 1, 1, 0, 1, 9, 3, 0, 6, 4, 6, 0, 1, 0, 1, 0, 5, 1, 0, 3, 1, 0, 1,\n",
            "        1, 0, 6, 6, 4, 0, 6, 6, 3, 7, 0, 1, 0, 6, 0, 1, 1, 1, 0, 3, 6, 0, 7, 3,\n",
            "        1, 1, 3, 1, 3, 6, 0, 5])\n",
            "Max Probabilities : tensor([0.1215, 0.1285, 0.1257, 0.1495, 0.1185, 0.1965, 0.1238, 0.1211, 0.1314,\n",
            "        0.1426, 0.1106, 0.1270, 0.1554, 0.1424, 0.1363, 0.1993, 0.1228, 0.1522,\n",
            "        0.1733, 0.1171, 0.1228, 0.1240, 0.1321, 0.1395, 0.1355, 0.1373, 0.1282,\n",
            "        0.1391, 0.1244, 0.1267, 0.1291, 0.1366, 0.1209, 0.1495, 0.1206, 0.1248,\n",
            "        0.1394, 0.1243, 0.1666, 0.1282, 0.1252, 0.1337, 0.1260, 0.1128, 0.1551,\n",
            "        0.1441, 0.1159, 0.1142, 0.1268, 0.1520, 0.1477, 0.1104, 0.1530, 0.1231,\n",
            "        0.1251, 0.1202, 0.1437, 0.1311, 0.1575, 0.1354, 0.1326, 0.1460, 0.1378,\n",
            "        0.1571, 0.1382, 0.1285, 0.1231, 0.1303, 0.1324, 0.1607, 0.1319, 0.1135,\n",
            "        0.1305, 0.1262, 0.1259, 0.1491, 0.1226, 0.1787, 0.1261, 0.1255, 0.1162,\n",
            "        0.1364, 0.1328, 0.1366, 0.1202, 0.1491, 0.1390, 0.1330, 0.1418, 0.1320,\n",
            "        0.1138, 0.1376, 0.1392, 0.1530, 0.1097, 0.1643, 0.1582, 0.1229, 0.1239,\n",
            "        0.1277, 0.1122, 0.1270, 0.1353, 0.1431, 0.1200, 0.1131, 0.1379, 0.1112,\n",
            "        0.1243, 0.1221, 0.1655, 0.1329, 0.1533, 0.1420, 0.1610, 0.1266, 0.1150,\n",
            "        0.1385, 0.1251, 0.1063, 0.1374, 0.1392, 0.1250, 0.1278, 0.1360, 0.1444,\n",
            "        0.1364, 0.1087], grad_fn=<MaxBackward0>)\n"
          ]
        }
      ]
    },
    {
      "cell_type": "code",
      "source": [
        "# Accuracy\n",
        "def accuracy(outputs, label):\n",
        "  _, preds = torch.max(outputs, dim = 1)\n",
        "  return torch.tensor(torch.sum(preds == label).item() / len(preds))\n"
      ],
      "metadata": {
        "id": "eFbxjAE28EfS"
      },
      "execution_count": 149,
      "outputs": []
    },
    {
      "cell_type": "markdown",
      "source": [
        "#### Can't be used as it's not differentiable and can't be valued in backproagation"
      ],
      "metadata": {
        "id": "pQvATFIL80iX"
      }
    },
    {
      "cell_type": "markdown",
      "source": [
        "##### Cross-Entropy Loss: The Necessary Evil 😈:\n",
        "F.cross_entropy, our measure of how wrong our model is. This function is like a judgmental friend, constantly pointing out the flaws in our model's predictions. It calculates the difference between the predicted probabilities and the actual classes, providing a single value that tells us just how much our model needs to improve. In simpler terms, it's our guiding compass 🧭, leading us to the mythical land of lower loss."
      ],
      "metadata": {
        "id": "bX5zT94XyF_O"
      }
    },
    {
      "cell_type": "code",
      "source": [
        "def cross_entropy(outputs, labels):\n",
        "  _, preds = torch.max(outputs, dim = 1)\n",
        "  return F.cross_entropy(outputs, labels)"
      ],
      "metadata": {
        "id": "ZI-5Gzxb9UwF"
      },
      "execution_count": 150,
      "outputs": []
    },
    {
      "cell_type": "code",
      "source": [
        "for _, labels in test_loader:\n",
        "  print(cross_entropy(outputs, labels))\n",
        "  break"
      ],
      "metadata": {
        "colab": {
          "base_uri": "https://localhost:8080/"
        },
        "id": "RecN0iyL8eAe",
        "outputId": "82551a76-559c-44f7-b0b3-7544f33fb9f5"
      },
      "execution_count": 151,
      "outputs": [
        {
          "output_type": "stream",
          "name": "stdout",
          "text": [
            "tensor(2.3089, grad_fn=<NllLossBackward0>)\n"
          ]
        }
      ]
    },
    {
      "cell_type": "markdown",
      "source": [
        "#### To look at predicted probabilites of correct label, look at the result of  : $${e^{-crossentropy}}$$\n",
        "#### Lower the loss, better the model\n"
      ],
      "metadata": {
        "id": "q8hsTbly-ei1"
      }
    },
    {
      "cell_type": "code",
      "source": [
        "print(f\"loss : {torch.exp(torch.tensor(-2.3186))}\")"
      ],
      "metadata": {
        "colab": {
          "base_uri": "https://localhost:8080/"
        },
        "id": "6DAfI3wv8ktO",
        "outputId": "a94a44f3-4e35-4817-8ebe-581e7f67aacc"
      },
      "execution_count": 152,
      "outputs": [
        {
          "output_type": "stream",
          "name": "stdout",
          "text": [
            "loss : 0.09841126948595047\n"
          ]
        }
      ]
    },
    {
      "cell_type": "code",
      "source": [
        "class Mnist_Logistic_regression(nn.Module):\n",
        "  def __init__(self):\n",
        "    super().__init__()\n",
        "    self.linear = nn.Linear(input_size, num_classes)\n",
        "\n",
        "  def forward(self, x):\n",
        "    outputs = x.reshape(-1, 784) # Reshaping data for input_size\n",
        "    outputs = self.linear(outputs)  # logistic model\n",
        "    return outputs\n",
        "\n",
        "  def training_step(self, batch):\n",
        "    images, labels = batch\n",
        "    outputs = self(images) # Generate predictions\n",
        "    loss = F.cross_entropy(outputs, labels) # calculating loss\n",
        "    return loss\n",
        "\n",
        "  def validation_step(self, batch):\n",
        "    images, labels = batch\n",
        "    outputs = self(images)\n",
        "    loss = F.cross_entropy(outputs, labels)\n",
        "    acc = accuracy(outputs, labels)     # calculating accuracy\n",
        "    return {\"val_loss\" : loss, \"val_acc\" : acc}\n",
        "\n",
        "  def validation_epoch_end(self, outputs):\n",
        "    batch_losses = [x[\"val_loss\"] for x in outputs]\n",
        "    epoch_loss = torch.stack(batch_losses).mean() # Combining loss\n",
        "    batch_accs = [x[\"val_acc\"] for x in outputs]\n",
        "    epoch_acc = torch.stack(batch_accs).mean() # cobining accuracy\n",
        "    return {\"val_loss\" : epoch_loss.item(), \"val_acc\" : epoch_acc.item()}\n",
        "\n",
        "  def epoch_end(self, epoch, result):\n",
        "    print(\"Epoch [{}], val_loss: {:.4f}, val_acc: {:.4f}\".format(epoch, result[\"val_loss\"], result[\"val_acc\"]))\n",
        "\n",
        "\n",
        "model = Mnist_Logistic_regression()"
      ],
      "metadata": {
        "id": "hFkTvYQBKsPk"
      },
      "execution_count": 153,
      "outputs": []
    },
    {
      "cell_type": "markdown",
      "source": [
        "#### Optimizer Setup: The Art of Gradient Descent 🎨🖌️:\n",
        "With the loss calculated, we need a way to adjust our model's parameters. Here comes the optimizer, with optim.SGD (Stochastic Gradient Descent) being the loyal workhorse 🐴 of the optimization world. It's simple, it's effective, and it has a learning rate that you'll never get right on the first try. This optimizer takes the calculated gradients and adjusts the weights, nudging our model ever so slightly toward better performance. 🚀"
      ],
      "metadata": {
        "id": "tyXfEMkfyScp"
      }
    },
    {
      "cell_type": "code",
      "source": [
        "def evaluate(model, val_loader):\n",
        "  outputs = [model.validation_step(batch) for batch in val_loader]\n",
        "  return model.validation_epoch_end(outputs)\n",
        "\n",
        "def fit(epochs, lr, model, train_loader, val_loader, opt_func = torch.optim.SGD):\n",
        "  history = []\n",
        "  optimizer = opt_func(model.parameters(), lr)\n",
        "  for epoch in range(epochs):\n",
        "    for batch in train_loader:\n",
        "      loss = model.training_step(batch)\n",
        "      loss.backward()\n",
        "      optimizer.step()\n",
        "      optimizer.zero_grad()\n",
        "    result = evaluate(model, val_loader)\n",
        "    model.epoch_end(epoch, result)\n",
        "    history.append(result)\n",
        "  return history"
      ],
      "metadata": {
        "id": "gtSJlOUCflaN"
      },
      "execution_count": 154,
      "outputs": []
    },
    {
      "cell_type": "markdown",
      "source": [
        "#### Backward Propagation: Letting the Gradients Do Their Thing 🌊:\n",
        "To adjust the weights, we need to compute how much each weight contributed to the loss. This is where backpropagation steps in. It’s like a blame game for the weights—each one gets its fair share of guilt for the current prediction errors. Using loss.backward(), PyTorch automates this process, computing the gradients for us. It's efficient, it's automatic, and it makes us feel smart. 🤓\n",
        "\n",
        "\n",
        "#### Optimizer Step: Taking a Step in the Right Direction 👣:\n",
        "After all the gradient calculations, it's time to take a step. The optimizer.step() function is our gentle push towards better accuracy. It adjusts the model’s parameters based on the gradients, moving us closer to the optimal weights. Of course, this step is as good as our learning rate—too big and we overshoot, too small and we crawl. But hey, who doesn't love a little trial and error? 🎯"
      ],
      "metadata": {
        "id": "Qmf83RCLyWyy"
      }
    },
    {
      "cell_type": "code",
      "source": [
        "# Evaluation o dataset before training\n",
        "res = evaluate(model, val_loader)\n",
        "res"
      ],
      "metadata": {
        "id": "AdN1X7Vq_K0A",
        "colab": {
          "base_uri": "https://localhost:8080/"
        },
        "outputId": "c53b156c-5a08-4851-9729-edaaaa1014c0"
      },
      "execution_count": 155,
      "outputs": [
        {
          "output_type": "execute_result",
          "data": {
            "text/plain": [
              "{'val_loss': 2.389312982559204, 'val_acc': 0.05419303849339485}"
            ]
          },
          "metadata": {},
          "execution_count": 155
        }
      ]
    },
    {
      "cell_type": "code",
      "source": [
        "# TRAIN THE MODEL\n",
        "print(\"history 1\")\n",
        "history1 = fit(5, 0.001, model, train_loader, val_loader)\n",
        "print(\"history 2\")\n",
        "history2 = fit(5, 0.001, model, train_loader, val_loader)\n",
        "print(\"history 3\")\n",
        "history3 = fit(5, 0.001, model, train_loader, val_loader)"
      ],
      "metadata": {
        "colab": {
          "base_uri": "https://localhost:8080/"
        },
        "id": "txfkzriLg5WB",
        "outputId": "c56d489d-ce3f-4d58-c62c-2be46078739a"
      },
      "execution_count": 156,
      "outputs": [
        {
          "output_type": "stream",
          "name": "stdout",
          "text": [
            "history 1\n",
            "Epoch [0], val_loss: 1.9989, val_acc: 0.6065\n",
            "Epoch [1], val_loss: 1.7183, val_acc: 0.7360\n",
            "Epoch [2], val_loss: 1.5053, val_acc: 0.7746\n",
            "Epoch [3], val_loss: 1.3455, val_acc: 0.7907\n",
            "Epoch [4], val_loss: 1.2254, val_acc: 0.8025\n",
            "history 2\n",
            "Epoch [0], val_loss: 1.1272, val_acc: 0.8104\n",
            "Epoch [1], val_loss: 1.0536, val_acc: 0.8164\n",
            "Epoch [2], val_loss: 0.9862, val_acc: 0.8224\n",
            "Epoch [3], val_loss: 0.9382, val_acc: 0.8278\n",
            "Epoch [4], val_loss: 0.8943, val_acc: 0.8318\n",
            "history 3\n",
            "Epoch [0], val_loss: 0.8559, val_acc: 0.8345\n",
            "Epoch [1], val_loss: 0.8198, val_acc: 0.8401\n",
            "Epoch [2], val_loss: 0.7988, val_acc: 0.8413\n",
            "Epoch [3], val_loss: 0.7699, val_acc: 0.8458\n",
            "Epoch [4], val_loss: 0.7500, val_acc: 0.8454\n"
          ]
        }
      ]
    },
    {
      "cell_type": "code",
      "source": [
        " # plotting the loss and accuracy\n",
        "plt.figure(figsize = (10,9))\n",
        "history = history1 + history2 +history3\n",
        "accuraciesv = [result[\"val_acc\"] for result in history]\n",
        "plt.plot(accuraciesv, '-x')\n",
        "plt.xlabel('epoch')\n",
        "plt.ylabel('accuracy')\n",
        "plt.title('Accuracy vs. No. of epochs');"
      ],
      "metadata": {
        "colab": {
          "base_uri": "https://localhost:8080/",
          "height": 795
        },
        "id": "tuu52hjFnL4y",
        "outputId": "4ca9a148-3859-4c79-8b73-072ab9d6f93e"
      },
      "execution_count": 157,
      "outputs": [
        {
          "output_type": "display_data",
          "data": {
            "text/plain": [
              "<Figure size 1000x900 with 1 Axes>"
            ],
            "image/png": "[encoded data removed]"
          },
          "metadata": {}
        }
      ]
    },
    {
      "cell_type": "markdown",
      "source": [
        "### Testing on individual images"
      ],
      "metadata": {
        "id": "bW-TCX2oqC3l"
      }
    },
    {
      "cell_type": "code",
      "source": [
        "img, label = test_ds[1]\n",
        "plt.imshow(img[0], cmap = \"gray\")\n",
        "print('Label:', label, ', Predicted:', model(img.unsqueeze(0)).argmax().item())"
      ],
      "metadata": {
        "colab": {
          "base_uri": "https://localhost:8080/",
          "height": 447
        },
        "id": "5d863-E7o3jG",
        "outputId": "8199bd02-ce63-4896-af03-1c1498c38743"
      },
      "execution_count": 158,
      "outputs": [
        {
          "output_type": "stream",
          "name": "stdout",
          "text": [
            "Label: 2 , Predicted: 2\n"
          ]
        },
        {
          "output_type": "display_data",
          "data": {
            "text/plain": [
              "<Figure size 640x480 with 1 Axes>"
            ],
            "image/png": "[encoded data removed]"
          },
          "metadata": {}
        }
      ]
    },
    {
      "cell_type": "code",
      "source": [
        "# run on complete test dataset\n",
        "def predict_image(img, label):\n",
        "  x = img.unsqueeze(0)\n",
        "  y = model(x)\n",
        "  _, predicted = torch.max(y.data, dim = 1)\n",
        "  print(f\"Label : {label}, Predicted : {predicted}\")"
      ],
      "metadata": {
        "id": "LtqVds4Fq2-A"
      },
      "execution_count": 159,
      "outputs": []
    },
    {
      "cell_type": "code",
      "source": [
        "i = 0\n",
        "for img, label in test_ds:\n",
        "  if i <= 8:\n",
        "    plt.subplot(3,3,i+1)\n",
        "    predict_image(img, label)\n",
        "    plt.imshow(img[0], cmap = \"gray\")\n",
        "    plt.axis(\"off\")\n",
        "  else:\n",
        "    break\n",
        "  i += 1"
      ],
      "metadata": {
        "colab": {
          "base_uri": "https://localhost:8080/",
          "height": 559
        },
        "id": "O3Gkr73ttRNS",
        "outputId": "cd01d684-48a7-42dd-fe73-caa34a7f3be0"
      },
      "execution_count": 160,
      "outputs": [
        {
          "output_type": "stream",
          "name": "stdout",
          "text": [
            "Label : 7, Predicted : tensor([7])\n",
            "Label : 2, Predicted : tensor([2])\n",
            "Label : 1, Predicted : tensor([1])\n",
            "Label : 0, Predicted : tensor([0])\n",
            "Label : 4, Predicted : tensor([4])\n",
            "Label : 1, Predicted : tensor([1])\n",
            "Label : 4, Predicted : tensor([4])\n",
            "Label : 9, Predicted : tensor([9])\n",
            "Label : 5, Predicted : tensor([2])\n"
          ]
        },
        {
          "output_type": "display_data",
          "data": {
            "text/plain": [
              "<Figure size 640x480 with 9 Axes>"
            ],
            "image/png": "[encoded data removed]"
          },
          "metadata": {}
        }
      ]
    },
    {
      "cell_type": "code",
      "source": [
        "# Evaluation on test\n",
        "result = evaluate(model, test_loader)\n",
        "result"
      ],
      "metadata": {
        "colab": {
          "base_uri": "https://localhost:8080/"
        },
        "id": "glFOp_26tpyQ",
        "outputId": "87a0b736-5e5d-43a8-88c9-16e07e6d5bc8"
      },
      "execution_count": 161,
      "outputs": [
        {
          "output_type": "execute_result",
          "data": {
            "text/plain": [
              "{'val_loss': 0.725789487361908, 'val_acc': 0.8524525165557861}"
            ]
          },
          "metadata": {},
          "execution_count": 161
        }
      ]
    },
    {
      "cell_type": "markdown",
      "source": [
        "#### Saving the Model State: Because Losing Progress is a Nightmare 🛟:\n",
        "Finally, after all the hard work (and countless epochs of training), we save our model's state using torch.save. This function ensures that the next time we want to show off our model's performance, we won't have to retrain it from scratch. We save the state dictionary, which contains all the model's learned parameters. It's like saving a game 🎮; nobody wants to start over from level one."
      ],
      "metadata": {
        "id": "2X9uYAtMyo5F"
      }
    },
    {
      "cell_type": "code",
      "source": [
        "torch.save(model.state_dict(), \"model-mnist-logistic-Weight-bias.pth\")"
      ],
      "metadata": {
        "id": "-t9bw-2DvS2G"
      },
      "execution_count": 162,
      "outputs": []
    },
    {
      "cell_type": "code",
      "source": [
        "torch.save(model, \"model-mnist-logistic-complete.pth\")"
      ],
      "metadata": {
        "id": "PheJGQBcv3_6"
      },
      "execution_count": 163,
      "outputs": []
    },
    {
      "cell_type": "code",
      "source": [
        "model.state_dict()"
      ],
      "metadata": {
        "colab": {
          "base_uri": "https://localhost:8080/"
        },
        "id": "cNjdc2Myvc2v",
        "outputId": "3606e83e-ee84-46d5-ca23-d3db1d011107"
      },
      "execution_count": 164,
      "outputs": [
        {
          "output_type": "execute_result",
          "data": {
            "text/plain": [
              "OrderedDict([('linear.weight',\n",
              "              tensor([[ 0.0353,  0.0208,  0.0182,  ...,  0.0031, -0.0252, -0.0315],\n",
              "                      [ 0.0239,  0.0085, -0.0125,  ..., -0.0320,  0.0278,  0.0053],\n",
              "                      [ 0.0137, -0.0221,  0.0239,  ...,  0.0189, -0.0188,  0.0258],\n",
              "                      ...,\n",
              "                      [-0.0252, -0.0346,  0.0114,  ..., -0.0263,  0.0126,  0.0341],\n",
              "                      [ 0.0065,  0.0091, -0.0266,  ..., -0.0225, -0.0209,  0.0333],\n",
              "                      [-0.0002,  0.0173,  0.0238,  ..., -0.0306, -0.0139,  0.0134]])),\n",
              "             ('linear.bias',\n",
              "              tensor([-0.0102,  0.1036, -0.0530, -0.0412,  0.0119,  0.0279,  0.0038,  0.0505,\n",
              "                      -0.0507,  0.0063]))])"
            ]
          },
          "metadata": {},
          "execution_count": 164
        }
      ]
    },
    {
      "cell_type": "code",
      "source": [
        "# for re-loading the model\n",
        "model = Mnist_Logistic_regression()\n",
        "model.load_state_dict(torch.load(\"model-mnist-logistic.pth\"))  # to load model weight"
      ],
      "metadata": {
        "colab": {
          "base_uri": "https://localhost:8080/"
        },
        "id": "-iwrVcpOvh9P",
        "outputId": "bc8455e3-eb23-4dbb-d613-0b22d459d352"
      },
      "execution_count": 165,
      "outputs": [
        {
          "output_type": "stream",
          "name": "stderr",
          "text": [
            "<ipython-input-165-15b3d40190bd>:3: FutureWarning: You are using `torch.load` with `weights_only=False` (the current default value), which uses the default pickle module implicitly. It is possible to construct malicious pickle data which will execute arbitrary code during unpickling (See https://github.com/pytorch/pytorch/blob/main/SECURITY.md#untrusted-models for more details). In a future release, the default value for `weights_only` will be flipped to `True`. This limits the functions that could be executed during unpickling. Arbitrary objects will no longer be allowed to be loaded via this mode unless they are explicitly allowlisted by the user via `torch.serialization.add_safe_globals`. We recommend you start setting `weights_only=True` for any use case where you don't have full control of the loaded file. Please open an issue on GitHub for any issues related to this experimental feature.\n",
            "  model.load_state_dict(torch.load(\"model-mnist-logistic.pth\"))  # to load model weight\n"
          ]
        },
        {
          "output_type": "execute_result",
          "data": {
            "text/plain": [
              "<All keys matched successfully>"
            ]
          },
          "metadata": {},
          "execution_count": 165
        }
      ]
    },
    {
      "cell_type": "code",
      "source": [
        "model.parameters"
      ],
      "metadata": {
        "colab": {
          "base_uri": "https://localhost:8080/",
          "height": 186
        },
        "id": "obey8uQCwDoQ",
        "outputId": "e42c81ca-9649-482d-ec31-e96005f4b296"
      },
      "execution_count": 166,
      "outputs": [
        {
          "output_type": "execute_result",
          "data": {
            "text/plain": [
              "<bound method Module.parameters of Mnist_Logistic_regression(\n",
              "  (linear): Linear(in_features=784, out_features=10, bias=True)\n",
              ")>"
            ],
            "text/html": [
              "<div style=\"max-width:800px; border: 1px solid var(--colab-border-color);\"><style>\n",
              "      pre.function-repr-contents {\n",
              "        overflow-x: auto;\n",
              "        padding: 8px 12px;\n",
              "        max-height: 500px;\n",
              "      }\n",
              "\n",
              "      pre.function-repr-contents.function-repr-contents-collapsed {\n",
              "        cursor: pointer;\n",
              "        max-height: 100px;\n",
              "      }\n",
              "    </style>\n",
              "    <pre style=\"white-space: initial; background:\n",
              "         var(--colab-secondary-surface-color); padding: 8px 12px;\n",
              "         border-bottom: 1px solid var(--colab-border-color);\"><b>torch.nn.modules.module.Module.parameters</b><br/>def parameters(recurse: bool=True) -&gt; Iterator[Parameter]</pre><pre class=\"function-repr-contents function-repr-contents-collapsed\" style=\"\"><a class=\"filepath\" style=\"display:none\" href=\"#\">/usr/local/lib/python3.10/dist-packages/torch/nn/modules/module.py</a>Return an iterator over module parameters.\n",
              "\n",
              "This is typically passed to an optimizer.\n",
              "\n",
              "Args:\n",
              "    recurse (bool): if True, then yields parameters of this module\n",
              "        and all submodules. Otherwise, yields only parameters that\n",
              "        are direct members of this module.\n",
              "\n",
              "Yields:\n",
              "    Parameter: module parameter\n",
              "\n",
              "Example::\n",
              "\n",
              "    &gt;&gt;&gt; # xdoctest: +SKIP(&quot;undefined vars&quot;)\n",
              "    &gt;&gt;&gt; for param in model.parameters():\n",
              "    &gt;&gt;&gt;     print(type(param), param.size())\n",
              "    &lt;class &#x27;torch.Tensor&#x27;&gt; (20L,)\n",
              "    &lt;class &#x27;torch.Tensor&#x27;&gt; (20L, 1L, 5L, 5L)</pre>\n",
              "      <script>\n",
              "      if (google.colab.kernel.accessAllowed && google.colab.files && google.colab.files.view) {\n",
              "        for (const element of document.querySelectorAll('.filepath')) {\n",
              "          element.style.display = 'block'\n",
              "          element.onclick = (event) => {\n",
              "            event.preventDefault();\n",
              "            event.stopPropagation();\n",
              "            google.colab.files.view(element.textContent, 2233);\n",
              "          };\n",
              "        }\n",
              "      }\n",
              "      for (const element of document.querySelectorAll('.function-repr-contents')) {\n",
              "        element.onclick = (event) => {\n",
              "          event.preventDefault();\n",
              "          event.stopPropagation();\n",
              "          element.classList.toggle('function-repr-contents-collapsed');\n",
              "        };\n",
              "      }\n",
              "      </script>\n",
              "      </div>"
            ]
          },
          "metadata": {},
          "execution_count": 166
        }
      ]
    }
  ],
  "metadata": {
    "accelerator": "GPU",
    "colab": {
      "gpuType": "T4",
      "provenance": []
    },
    "kernelspec": {
      "display_name": "Python 3",
      "name": "python3"
    },
    "language_info": {
      "name": "python"
    }
  },
  "nbformat": 4,
  "nbformat_minor": 0
}